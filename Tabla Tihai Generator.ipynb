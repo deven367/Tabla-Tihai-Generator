{
 "cells": [
  {
   "cell_type": "markdown",
   "metadata": {},
   "source": [
    "## Tabla Tihai Generator"
   ]
  },
  {
   "cell_type": "code",
   "execution_count": 1,
   "metadata": {},
   "outputs": [],
   "source": [
    "import random"
   ]
  },
  {
   "cell_type": "code",
   "execution_count": 2,
   "metadata": {},
   "outputs": [
    {
     "name": "stdout",
     "output_type": "stream",
     "text": [
      "enter the pause 1.5\n"
     ]
    }
   ],
   "source": [
    "notes = {\n",
    "    1:4, #tirakita\n",
    "    2:4, #dhir dhir\n",
    "    3:4  #taka take\n",
    "}\n",
    "pause = float(input(\"enter the pause \"))"
   ]
  },
  {
   "cell_type": "code",
   "execution_count": 8,
   "metadata": {},
   "outputs": [],
   "source": [
    "def tihai(avartan,taal):\n",
    "    sam = avartan*taal + 1\n",
    "    pauses = []\n",
    "    bolsamuh = []\n",
    "    pause = 0.25\n",
    "    for i in range(10):\n",
    "        c = 0\n",
    "        while  2*pause < sam and c < 10 :\n",
    "            if  (sam - 2*pause)% 3 == 0:\n",
    "                pauses.append(pause)\n",
    "                bolsamuh.append((sam - 2*pause)//3)\n",
    "                pause = pause + 0.25\n",
    "                \n",
    "            else:\n",
    "                pause = pause + 0.25\n",
    "            c = c + 1\n",
    "    bol,index = genbol(bolsamuh)\n",
    "#     p = pauses[index]\n",
    "#     pp = str(u'ऽ')*p\n",
    "#     print(pp)\n",
    "#     print(genbol(bolsamuh))\n",
    "    print(bol + str())\n",
    "    print(\"Pauses   \", pauses)\n",
    "    print(\"bolsamuh \",bolsamuh)\n",
    "#     bolsamuh = \n",
    "#     print(sam,bolsamuh)"
   ]
  },
  {
   "cell_type": "code",
   "execution_count": 4,
   "metadata": {},
   "outputs": [],
   "source": [
    "def tistra():\n",
    "    # return tistra jati bols\n",
    "    d = {}"
   ]
  },
  {
   "cell_type": "code",
   "execution_count": 5,
   "metadata": {},
   "outputs": [],
   "source": [
    "def chastra():\n",
    "    # return chastra jati bols\n",
    "#     d = [i for i in range(1,12)]\n",
    "    d = {\n",
    "        u'तिरकिट':4,\n",
    "        u'किटतक':4,\n",
    "        u'गदिगन':4,\n",
    "        u'धागेनागे':4,\n",
    "        u'ताकेनाके ':4,\n",
    "        u'तिटकत':4,\n",
    "        u'किडनग':4,\n",
    "        u'धिरधिर':4,\n",
    "    }\n",
    "    return random.choice(list(d.items()))"
   ]
  },
  {
   "cell_type": "code",
   "execution_count": 6,
   "metadata": {},
   "outputs": [],
   "source": [
    "def genbol(bolsamuh):\n",
    "    # generate some bolsamuh ending in dha\n",
    "    bols = random.choice(bolsamuh)\n",
    "    print(bols)\n",
    "    chatu = 4*bols\n",
    "    tistr = 3*bols\n",
    "    s = \"\"\n",
    "    while chatu != 4:\n",
    "        bol,weight = chastra()\n",
    "        print(bol,weight)\n",
    "        s = s + str(bol) + \" \"\n",
    "        chatu -= weight\n",
    "    s = s+  str(u'धाऽऽऽ')\n",
    "    return s, bolsamuh.index(bols)   "
   ]
  },
  {
   "cell_type": "code",
   "execution_count": 10,
   "metadata": {},
   "outputs": [
    {
     "name": "stdout",
     "output_type": "stream",
     "text": [
      "3.0\n",
      "तिटकत 4\n",
      "धिरधिर 4\n",
      "तिटकत धिरधिर धाऽऽऽ\n",
      "Pauses    [1.0, 2.5, 4.0, 5.5, 7.0]\n",
      "bolsamuh  [5.0, 4.0, 3.0, 2.0, 1.0]\n"
     ]
    }
   ],
   "source": [
    "tihai(1,16)"
   ]
  },
  {
   "cell_type": "code",
   "execution_count": null,
   "metadata": {},
   "outputs": [],
   "source": []
  },
  {
   "cell_type": "code",
   "execution_count": null,
   "metadata": {},
   "outputs": [],
   "source": []
  },
  {
   "cell_type": "code",
   "execution_count": null,
   "metadata": {},
   "outputs": [],
   "source": []
  },
  {
   "cell_type": "code",
   "execution_count": null,
   "metadata": {},
   "outputs": [],
   "source": []
  },
  {
   "cell_type": "markdown",
   "metadata": {},
   "source": [
    "## 1.5 matra pause tihai (chastra jati)"
   ]
  },
  {
   "cell_type": "code",
   "execution_count": 12,
   "metadata": {},
   "outputs": [],
   "source": [
    "pause = 1.5"
   ]
  },
  {
   "cell_type": "code",
   "execution_count": 46,
   "metadata": {},
   "outputs": [],
   "source": [
    "def temp(taal):\n",
    "    avartan = 0\n",
    "    for i in range(1,20):\n",
    "        sam = i*taal + 1\n",
    "        if  (sam - 2*pause)% 3 == 0:\n",
    "            avartan = i\n",
    "            bolsamuh = ((sam - 2*pause)/3)\n",
    "            print(avartan,sam, int(bolsamuh))\n",
    "            break\n",
    "    return int(bolsamuh)"
   ]
  },
  {
   "cell_type": "code",
   "execution_count": 47,
   "metadata": {},
   "outputs": [
    {
     "name": "stdout",
     "output_type": "stream",
     "text": [
      "2 33 10\n"
     ]
    },
    {
     "data": {
      "text/plain": [
       "10"
      ]
     },
     "execution_count": 47,
     "metadata": {},
     "output_type": "execute_result"
    }
   ],
   "source": [
    "temp(16) #teental"
   ]
  },
  {
   "cell_type": "code",
   "execution_count": 48,
   "metadata": {},
   "outputs": [
    {
     "name": "stdout",
     "output_type": "stream",
     "text": [
      "2 21 6\n"
     ]
    },
    {
     "data": {
      "text/plain": [
       "6"
      ]
     },
     "execution_count": 48,
     "metadata": {},
     "output_type": "execute_result"
    }
   ],
   "source": [
    "temp(10) #jhaptaal"
   ]
  },
  {
   "cell_type": "code",
   "execution_count": 49,
   "metadata": {},
   "outputs": [
    {
     "name": "stdout",
     "output_type": "stream",
     "text": [
      "2 15 4\n"
     ]
    },
    {
     "data": {
      "text/plain": [
       "4"
      ]
     },
     "execution_count": 49,
     "metadata": {},
     "output_type": "execute_result"
    }
   ],
   "source": [
    "temp(7) #rupak"
   ]
  },
  {
   "cell_type": "code",
   "execution_count": null,
   "metadata": {},
   "outputs": [],
   "source": [
    "def bols(bolsamuh):\n",
    "    chastra = 4*bolsamuh\n",
    "    tisra = 3*bolsamuh"
   ]
  },
  {
   "cell_type": "code",
   "execution_count": null,
   "metadata": {},
   "outputs": [],
   "source": []
  }
 ],
 "metadata": {
  "kernelspec": {
   "display_name": "Python 3",
   "language": "python",
   "name": "python3"
  },
  "language_info": {
   "codemirror_mode": {
    "name": "ipython",
    "version": 3
   },
   "file_extension": ".py",
   "mimetype": "text/x-python",
   "name": "python",
   "nbconvert_exporter": "python",
   "pygments_lexer": "ipython3",
   "version": "3.7.4"
  }
 },
 "nbformat": 4,
 "nbformat_minor": 2
}
